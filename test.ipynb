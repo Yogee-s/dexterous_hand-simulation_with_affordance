{
 "cells": [
  {
   "cell_type": "code",
   "execution_count": 2,
   "metadata": {},
   "outputs": [
    {
     "name": "stdout",
     "output_type": "stream",
     "text": [
      "^C\n",
      "Traceback (most recent call last):\n",
      "  File \"/home/xiaoyu/anaconda3/envs/ilad/lib/python3.7/site-packages/lockfile/linklockfile.py\", line 31, in acquire\n",
      "    os.link(self.unique_name, self.lock_file)\n",
      "FileExistsError: [Errno 17] File exists: '/home/xiaoyu/Desktop/yogee/.mujoco/mujoco-py/mujoco_py/generated/xiaoyu-Precision-7550-616353c0.9101-7959272401990569097' -> '/home/xiaoyu/Desktop/yogee/.mujoco/mujoco-py/mujoco_py/generated/mujocopy-buildlock.lock'\n",
      "\n",
      "During handling of the above exception, another exception occurred:\n",
      "\n",
      "Traceback (most recent call last):\n",
      "  File \"utils/visualize_policy.py\", line 1, in <module>\n",
      "    import mj_envs\n",
      "  File \"/home/xiaoyu/Desktop/yogee/dex-affordance/mj_envs/mj_envs/__init__.py\", line 1, in <module>\n",
      "    import  mj_envs.hand_manipulation_suite \n",
      "  File \"/home/xiaoyu/Desktop/yogee/dex-affordance/mj_envs/mj_envs/hand_manipulation_suite/__init__.py\", line 2, in <module>\n",
      "    from mj_envs.mujoco_env import MujocoEnv\n",
      "  File \"/home/xiaoyu/Desktop/yogee/dex-affordance/mj_envs/mj_envs/mujoco_env.py\", line 13, in <module>\n",
      "    import mujoco_py\n",
      "  File \"/home/xiaoyu/Desktop/yogee/.mujoco/mujoco-py/mujoco_py/__init__.py\", line 3, in <module>\n",
      "    from mujoco_py.builder import cymj, ignore_mujoco_warnings, functions, MujocoException\n",
      "  File \"/home/xiaoyu/Desktop/yogee/.mujoco/mujoco-py/mujoco_py/builder.py\", line 503, in <module>\n",
      "    cymj = load_cython_ext(mujoco_path)\n",
      "  File \"/home/xiaoyu/Desktop/yogee/.mujoco/mujoco-py/mujoco_py/builder.py\", line 89, in load_cython_ext\n",
      "    with LockFile(lockpath):\n",
      "  File \"/home/xiaoyu/anaconda3/envs/ilad/lib/python3.7/site-packages/lockfile/__init__.py\", line 197, in __enter__\n",
      "    self.acquire()\n",
      "  File \"/home/xiaoyu/anaconda3/envs/ilad/lib/python3.7/site-packages/lockfile/linklockfile.py\", line 50, in acquire\n",
      "    time.sleep(timeout is not None and timeout / 10 or 0.1)\n",
      "KeyboardInterrupt\n"
     ]
    }
   ],
   "source": [
    "import os\n",
    "os.chdir( '/home/xiaoyu/Desktop/yogee/dex-affordance/dapg/dapg')\n",
    "\n",
    "# !python utils/visualize_demos.py --env_name relocate-v0\n",
    "!python utils/visualize_policy.py --env_name relocate-v0 --policy policies/relocate-v0.pickle"
   ]
  },
  {
   "cell_type": "code",
   "execution_count": 8,
   "metadata": {},
   "outputs": [
    {
     "name": "stdout",
     "output_type": "stream",
     "text": [
      "observation dim: 38, action dim: 18\n",
      "True\n",
      "old is leaf: True\n",
      "==== Training with BC ====\n",
      "Traceback (most recent call last):\n",
      "  File \"tools/train_states2.py\", line 183, in <module>\n",
      "    train()\n",
      "  File \"tools/train_states2.py\", line 110, in train\n",
      "    object_scale=obj_scale)\n",
      "  File \"/home/xiaoyu/Desktop/yogee/dex-affordance/mjrl/mjrl/algos/behavior_cloning_2.py\", line 45, in __init__\n",
      "    params[-self.policy.m:] = np.log(out_scale + 1e-12)\n",
      "ValueError: could not broadcast input array from shape (30,) into shape (18,)\n"
     ]
    }
   ],
   "source": [
    "import os\n",
    "os.chdir( '/home/xiaoyu/Desktop/yogee/dex-affordance')\n",
    "\n",
    "!python tools/train_states2.py --cfg exp_cfg/shapenet_relocate_mug_ilad_cfg.yaml"
   ]
  }
 ],
 "metadata": {
  "kernelspec": {
   "display_name": "ilad",
   "language": "python",
   "name": "python3"
  },
  "language_info": {
   "codemirror_mode": {
    "name": "ipython",
    "version": 3
   },
   "file_extension": ".py",
   "mimetype": "text/x-python",
   "name": "python",
   "nbconvert_exporter": "python",
   "pygments_lexer": "ipython3",
   "version": "3.7.13"
  }
 },
 "nbformat": 4,
 "nbformat_minor": 2
}
