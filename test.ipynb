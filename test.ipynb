{
 "cells": [
  {
   "cell_type": "code",
   "execution_count": 2,
   "metadata": {},
   "outputs": [
    {
     "name": "stdout",
     "output_type": "stream",
     "text": [
      "/home/xiaoyu/anaconda3/envs/ilad/lib/python3.7/site-packages/gym/spaces/box.py:127: UserWarning: \u001b[33mWARN: Box bound precision lowered by casting to float32\u001b[0m\n",
      "  logger.warn(f\"Box bound precision lowered by casting to {self.dtype}\")\n",
      "Traceback (most recent call last):\n",
      "  File \"utils/visualize_policy.py\", line 35, in <module>\n",
      "    main()\n",
      "  File \"/home/xiaoyu/anaconda3/envs/ilad/lib/python3.7/site-packages/click/core.py\", line 1157, in __call__\n",
      "    return self.main(*args, **kwargs)\n",
      "  File \"/home/xiaoyu/anaconda3/envs/ilad/lib/python3.7/site-packages/click/core.py\", line 1078, in main\n",
      "    rv = self.invoke(ctx)\n",
      "  File \"/home/xiaoyu/anaconda3/envs/ilad/lib/python3.7/site-packages/click/core.py\", line 1434, in invoke\n",
      "    return ctx.invoke(self.callback, **ctx.params)\n",
      "  File \"/home/xiaoyu/anaconda3/envs/ilad/lib/python3.7/site-packages/click/core.py\", line 783, in invoke\n",
      "    return __callback(*args, **kwargs)\n",
      "  File \"utils/visualize_policy.py\", line 24, in main\n",
      "    e = GymEnv(env_name)\n",
      "  File \"/home/xiaoyu/Desktop/yogee/dex-affordance/mjrl/mjrl/utils/gym_env.py\", line 13, in __init__\n",
      "    env = gym.make(env_name)\n",
      "  File \"/home/xiaoyu/anaconda3/envs/ilad/lib/python3.7/site-packages/gym/envs/registration.py\", line 640, in make\n",
      "    env = env_creator(**_kwargs)\n",
      "  File \"/home/xiaoyu/Desktop/yogee/dex-affordance/mj_envs/mj_envs/hand_manipulation_suite/relocate_v0.py\", line 32, in __init__\n",
      "    self.sim.model.actuator_gainprm[self.sim.model.actuator_name2id('A_WRJ1'):self.sim.model.actuator_name2id('A_WRJ0')+1,:] = np.array([10, 0, 0])\n",
      "ValueError: could not broadcast input array from shape (3,) into shape (2,10)\n"
     ]
    }
   ],
   "source": [
    "import os\n",
    "os.chdir( '/home/xiaoyu/Desktop/yogee/dex-affordance/dapg/dapg')\n",
    "\n",
    "# !python utils/visualize_demos.py --env_name relocate-v0\n",
    "!python utils/visualize_policy.py --env_name relocate-v0 --policy policies/relocate-v0.pickle"
   ]
  },
  {
   "cell_type": "code",
   "execution_count": 1,
   "metadata": {},
   "outputs": [
    {
     "name": "stdout",
     "output_type": "stream",
     "text": [
      "Traceback (most recent call last):\n",
      "  File \"tools/train_states2.py\", line 14, in <module>\n",
      "    from mjrl.algos.lfa import LFA\n",
      "  File \"/home/xiaoyu/Desktop/yogee/dex-affordance/mjrl_2/mjrl/algos/lfa.py\", line 14, in <module>\n",
      "    import mjrl.samplers.trajectory_sampler as trajectory_sampler\n",
      "  File \"/home/xiaoyu/Desktop/yogee/dex-affordance/mjrl_2/mjrl/samplers/trajectory_sampler.py\", line 8, in <module>\n",
      "    import mjrl.samplers.base_sampler as base_sampler\n",
      "  File \"/home/xiaoyu/Desktop/yogee/dex-affordance/mjrl_2/mjrl/samplers/base_sampler.py\", line 8, in <module>\n",
      "    from mjrl.utils.get_environment import get_environment\n",
      "  File \"/home/xiaoyu/Desktop/yogee/dex-affordance/mjrl_2/mjrl/utils/get_environment.py\", line 6, in <module>\n",
      "    from hand_imitation.env.environments.shapenet_pointcloud_relocate_env import SHAPENETPCRelocate\n",
      "ModuleNotFoundError: No module named 'hand_imitation.env.environments.shapenet_pointcloud_relocate_env'\n"
     ]
    }
   ],
   "source": [
    "import os\n",
    "os.chdir( '/home/xiaoyu/Desktop/yogee/dex-affordance')\n",
    "\n",
    "!python tools/train_states2.py --cfg exp_cfg/shapenet_relocate_mug_ilad_cfg.yaml"
   ]
  }
 ],
 "metadata": {
  "kernelspec": {
   "display_name": "ilad",
   "language": "python",
   "name": "python3"
  },
  "language_info": {
   "codemirror_mode": {
    "name": "ipython",
    "version": 3
   },
   "file_extension": ".py",
   "mimetype": "text/x-python",
   "name": "python",
   "nbconvert_exporter": "python",
   "pygments_lexer": "ipython3",
   "version": "3.7.13"
  }
 },
 "nbformat": 4,
 "nbformat_minor": 2
}
