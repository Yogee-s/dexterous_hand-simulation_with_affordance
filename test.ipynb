{
 "cells": [
  {
   "cell_type": "code",
   "execution_count": 8,
   "metadata": {},
   "outputs": [
    {
     "name": "stdout",
     "output_type": "stream",
     "text": [
      "[2024-07-02 14:09:36,521] Making new env: relocate-v0\n",
      "/home/xiaoyu/anaconda3/envs/ilad/lib/python3.7/site-packages/gym/envs/registration.py:17: PkgResourcesDeprecationWarning: Parameters to load are deprecated.  Call .resolve and .require separately.\n",
      "  result = entry_point.load(False)\n",
      "Traceback (most recent call last):\n",
      "  File \"utils/visualize_policy.py\", line 35, in <module>\n",
      "    main()\n",
      "  File \"/home/xiaoyu/anaconda3/envs/ilad/lib/python3.7/site-packages/click/core.py\", line 1157, in __call__\n",
      "    return self.main(*args, **kwargs)\n",
      "  File \"/home/xiaoyu/anaconda3/envs/ilad/lib/python3.7/site-packages/click/core.py\", line 1078, in main\n",
      "    rv = self.invoke(ctx)\n",
      "  File \"/home/xiaoyu/anaconda3/envs/ilad/lib/python3.7/site-packages/click/core.py\", line 1434, in invoke\n",
      "    return ctx.invoke(self.callback, **ctx.params)\n",
      "  File \"/home/xiaoyu/anaconda3/envs/ilad/lib/python3.7/site-packages/click/core.py\", line 783, in invoke\n",
      "    return __callback(*args, **kwargs)\n",
      "  File \"utils/visualize_policy.py\", line 24, in main\n",
      "    e = GymEnv(env_name)\n",
      "  File \"/home/xiaoyu/Desktop/yogee/dex-affordance/mjrl/mjrl/utils/gym_env.py\", line 13, in __init__\n",
      "    env = gym.make(env_name)\n",
      "  File \"/home/xiaoyu/anaconda3/envs/ilad/lib/python3.7/site-packages/gym/envs/registration.py\", line 161, in make\n",
      "    return registry.make(id)\n",
      "  File \"/home/xiaoyu/anaconda3/envs/ilad/lib/python3.7/site-packages/gym/envs/registration.py\", line 119, in make\n",
      "    env = spec.make()\n",
      "  File \"/home/xiaoyu/anaconda3/envs/ilad/lib/python3.7/site-packages/gym/envs/registration.py\", line 86, in make\n",
      "    env = cls(**self._kwargs)\n",
      "  File \"/home/xiaoyu/Desktop/yogee/dex-affordance/mj_envs/mj_envs/hand_manipulation_suite/relocate_v0.py\", line 32, in __init__\n",
      "    self.sim.model.actuator_gainprm[self.sim.model.actuator_name2id('A_WRJ1'):self.sim.model.actuator_name2id('A_WRJ0')+1,:] = np.array([10, 0, 0])\n",
      "ValueError: could not broadcast input array from shape (3,) into shape (2,10)\n"
     ]
    }
   ],
   "source": [
    "import os\n",
    "os.chdir( '/home/xiaoyu/Desktop/yogee/dex-affordance/dapg/dapg')\n",
    "\n",
    "# !python utils/visualize_demos.py --env_name relocate-v0\n",
    "!python utils/visualize_policy.py --env_name relocate-v0 --policy policies/relocate-v0.pickle"
   ]
  },
  {
   "cell_type": "code",
   "execution_count": 10,
   "metadata": {},
   "outputs": [
    {
     "name": "stdout",
     "output_type": "stream",
     "text": [
      "observation dim: 38, action dim: 18\n",
      "True\n",
      "old is leaf: True\n",
      "==== Training with BC ====\n",
      "shape of observations: (6550, 38)\n",
      "  0%|                                                    | 0/10 [00:00<?, ?it/s]\n",
      "Traceback (most recent call last):\n",
      "  File \"tools/train_states2.py\", line 183, in <module>\n",
      "    train()\n",
      "  File \"tools/train_states2.py\", line 111, in train\n",
      "    bc_agent.train(random_embedding=cfg.RANDOM_EMBEDDING)\n",
      "  File \"/home/xiaoyu/Desktop/yogee/dex-affordance/mjrl/mjrl/algos/behavior_cloning_2.py\", line 161, in train\n",
      "    loss_val = self.loss(observations, actions).cpu().data.numpy().ravel()[0]\n",
      "  File \"/home/xiaoyu/Desktop/yogee/dex-affordance/mjrl/mjrl/algos/behavior_cloning_2.py\", line 96, in loss\n",
      "    act_hat = self.policy.model(obs_var)\n",
      "  File \"/home/xiaoyu/anaconda3/envs/ilad/lib/python3.7/site-packages/torch/nn/modules/module.py\", line 1194, in _call_impl\n",
      "    return forward_call(*input, **kwargs)\n",
      "  File \"/home/xiaoyu/Desktop/yogee/dex-affordance/mjrl/mjrl/policies/pc_mlp.py\", line 472, in forward\n",
      "    pc_obs = pc_obs.view(num_points, 3, -1)\n",
      "RuntimeError: shape '[512, 3, -1]' is invalid for input of size 512\n"
     ]
    }
   ],
   "source": [
    "import os\n",
    "os.chdir( '/home/xiaoyu/Desktop/yogee/dex-affordance')\n",
    "\n",
    "!python tools/train_states2.py --cfg exp_cfg/shapenet_relocate_mug_ilad_cfg.yaml"
   ]
  }
 ],
 "metadata": {
  "kernelspec": {
   "display_name": "ilad",
   "language": "python",
   "name": "python3"
  },
  "language_info": {
   "codemirror_mode": {
    "name": "ipython",
    "version": 3
   },
   "file_extension": ".py",
   "mimetype": "text/x-python",
   "name": "python",
   "nbconvert_exporter": "python",
   "pygments_lexer": "ipython3",
   "version": "3.7.undefined"
  }
 },
 "nbformat": 4,
 "nbformat_minor": 2
}
