{
 "cells": [
  {
   "cell_type": "code",
   "execution_count": 2,
   "metadata": {},
   "outputs": [
    {
     "name": "stdout",
     "output_type": "stream",
     "text": [
      "/home/xiaoyu/anaconda3/envs/ilad/lib/python3.7/site-packages/gym/spaces/box.py:127: UserWarning: \u001b[33mWARN: Box bound precision lowered by casting to float32\u001b[0m\n",
      "  logger.warn(f\"Box bound precision lowered by casting to {self.dtype}\")\n",
      "Traceback (most recent call last):\n",
      "  File \"utils/visualize_policy.py\", line 35, in <module>\n",
      "    main()\n",
      "  File \"/home/xiaoyu/anaconda3/envs/ilad/lib/python3.7/site-packages/click/core.py\", line 1157, in __call__\n",
      "    return self.main(*args, **kwargs)\n",
      "  File \"/home/xiaoyu/anaconda3/envs/ilad/lib/python3.7/site-packages/click/core.py\", line 1078, in main\n",
      "    rv = self.invoke(ctx)\n",
      "  File \"/home/xiaoyu/anaconda3/envs/ilad/lib/python3.7/site-packages/click/core.py\", line 1434, in invoke\n",
      "    return ctx.invoke(self.callback, **ctx.params)\n",
      "  File \"/home/xiaoyu/anaconda3/envs/ilad/lib/python3.7/site-packages/click/core.py\", line 783, in invoke\n",
      "    return __callback(*args, **kwargs)\n",
      "  File \"utils/visualize_policy.py\", line 24, in main\n",
      "    e = GymEnv(env_name)\n",
      "  File \"/home/xiaoyu/Desktop/yogee/dex-affordance/mjrl/mjrl/utils/gym_env.py\", line 13, in __init__\n",
      "    env = gym.make(env_name)\n",
      "  File \"/home/xiaoyu/anaconda3/envs/ilad/lib/python3.7/site-packages/gym/envs/registration.py\", line 640, in make\n",
      "    env = env_creator(**_kwargs)\n",
      "  File \"/home/xiaoyu/Desktop/yogee/dex-affordance/mj_envs/mj_envs/hand_manipulation_suite/relocate_v0.py\", line 32, in __init__\n",
      "    self.sim.model.actuator_gainprm[self.sim.model.actuator_name2id('A_WRJ1'):self.sim.model.actuator_name2id('A_WRJ0')+1,:] = np.array([10, 0, 0])\n",
      "ValueError: could not broadcast input array from shape (3,) into shape (2,10)\n"
     ]
    }
   ],
   "source": [
    "import os\n",
    "os.chdir( '/home/xiaoyu/Desktop/yogee/dex-affordance/dapg/dapg')\n",
    "\n",
    "# !python utils/visualize_demos.py --env_name relocate-v0\n",
    "!python utils/visualize_policy.py --env_name relocate-v0 --policy policies/relocate-v0.pickle"
   ]
  },
  {
   "cell_type": "code",
   "execution_count": 3,
   "metadata": {},
   "outputs": [
    {
     "name": "stdout",
     "output_type": "stream",
     "text": [
      "observation dim: 38, action dim: 18\n",
      "True\n",
      "old is leaf: True\n",
      "==== Training with BC ====\n",
      "shape of observations: (6550, 3037)\n",
      "100%|███████████████████████████████████████████| 10/10 [00:09<00:00,  1.02it/s]\n",
      "==== Training with RL ====\n",
      "......................................................................................\n",
      "ITERATION : 0 \n",
      "begin collecting trajectories\n",
      "sampling with one cpu core\n",
      "/home/xiaoyu/anaconda3/envs/ilad/lib/python3.7/site-packages/gym/spaces/box.py:127: UserWarning: \u001b[33mWARN: Box bound precision lowered by casting to float32\u001b[0m\n",
      "  logger.warn(f\"Box bound precision lowered by casting to {self.dtype}\")\n",
      "Traceback (most recent call last):\n",
      "  File \"tools/train_states2.py\", line 183, in <module>\n",
      "    train()\n",
      "  File \"tools/train_states2.py\", line 173, in train\n",
      "    density=cfg.DENSITY\n",
      "  File \"/home/xiaoyu/Desktop/yogee/dex-affordance/mjrl/mjrl/utils/train_agent.py\", line 72, in train_agent\n",
      "    stats = agent.train_step(**args)\n",
      "  File \"/home/xiaoyu/Desktop/yogee/dex-affordance/mjrl/mjrl/algos/batch_reinforce.py\", line 77, in train_step\n",
      "    self.seed, num_cpu)\n",
      "  File \"/home/xiaoyu/Desktop/yogee/dex-affordance/mjrl/mjrl/samplers/trajectory_sampler.py\", line 35, in sample_paths_parallel\n",
      "    return base_sampler.do_rollout(N, policy, T, None, env_name, pegasus_seed, **kwargs)\n",
      "  File \"/home/xiaoyu/Desktop/yogee/dex-affordance/mjrl/mjrl/samplers/base_sampler.py\", line 83, in do_rollout\n",
      "    next_o, r, done, env_info = env.step(a)\n",
      "  File \"/home/xiaoyu/Desktop/yogee/dex-affordance/hand_imitation/hand_imitation/env/environments/dapg_env/dapg_wrapper.py\", line 30, in step\n",
      "    obs, reward, done, info = self.env.step(action)\n",
      "  File \"/home/xiaoyu/Desktop/yogee/dex-affordance/hand_imitation/hand_imitation/env/environments/base.py\", line 310, in step\n",
      "    self.sim.step()\n",
      "  File \"mjsim.pyx\", line 119, in mujoco_py.cymj.MjSim.step\n",
      "  File \"cymj.pyx\", line 115, in mujoco_py.cymj.wrap_mujoco_warning.__exit__\n",
      "  File \"cymj.pyx\", line 75, in mujoco_py.cymj.c_warning_callback\n",
      "  File \"/home/xiaoyu/Desktop/yogee/.mujoco/mujoco-py/mujoco_py/builder.py\", line 355, in user_warning_raise_exception\n",
      "    raise MujocoException('Got MuJoCo Warning: {}'.format(warn))\n",
      "mujoco_py.builder.MujocoException: Got MuJoCo Warning: Nan, Inf or huge value in QACC at DOF 0. The simulation is unstable. Time = 0.1660.\n"
     ]
    }
   ],
   "source": [
    "import os\n",
    "os.chdir( '/home/xiaoyu/Desktop/yogee/dex-affordance')\n",
    "\n",
    "!python tools/train_states2.py --cfg exp_cfg/shapenet_relocate_mug_ilad_cfg.yaml"
   ]
  }
 ],
 "metadata": {
  "kernelspec": {
   "display_name": "ilad",
   "language": "python",
   "name": "python3"
  },
  "language_info": {
   "codemirror_mode": {
    "name": "ipython",
    "version": 3
   },
   "file_extension": ".py",
   "mimetype": "text/x-python",
   "name": "python",
   "nbconvert_exporter": "python",
   "pygments_lexer": "ipython3",
   "version": "3.7.13"
  }
 },
 "nbformat": 4,
 "nbformat_minor": 2
}
